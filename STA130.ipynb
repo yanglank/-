{
 "cells": [
  {
   "cell_type": "markdown",
   "id": "b38521f8-47d5-4c42-a8e8-f7a8cf0187c6",
   "metadata": {},
   "source": [
    "# Type \n",
    "python 里**装载东西的不同方法**"
   ]
  },
  {
   "cell_type": "markdown",
   "id": "ca614f4d-bcaf-40af-80c1-f840515a51df",
   "metadata": {},
   "source": [
    "**tuple** 是一个包含“按顺序排列的集合”的对象，使用圆括号创建并表示。tuple 是不可变的，这意味着在 tuple 创建后，无法更改、添加或删除项目。因此，tuple 非常适合表示不应更改的数据，如生日日期或自然地标的地理坐标。"
   ]
  },
  {
   "cell_type": "code",
   "execution_count": 1,
   "id": "b8a7534f-0d54-4394-be3d-526356cc0f2d",
   "metadata": {},
   "outputs": [
    {
     "data": {
      "text/plain": [
       "(1, 'apple', 3.14, 1)"
      ]
     },
     "execution_count": 1,
     "metadata": {},
     "output_type": "execute_result"
    }
   ],
   "source": [
    "example_tuple = (1, 'apple', 3.14, 1) # tuple 可以包含重复的元素 (elements)\n",
    "example_tuple"
   ]
  },
  {
   "cell_type": "markdown",
   "id": "8632901b-c9d5-44a7-9810-f9a65ca37e43",
   "metadata": {},
   "source": [
    "**list** 是另一种包含“按顺序排列的集合”的对象，使用方括号创建并表示。与 tuple 不同，list 是可变的，\n",
    "这意味着它们在创建后可以被修改。如果你不想每次更改集合时都从头创建一个新的 tuple，那么你应该使用 list！"
   ]
  },
  {
   "cell_type": "code",
   "execution_count": 2,
   "id": "12606fe4-be74-4ade-a1ee-2791ed6ceea9",
   "metadata": {},
   "outputs": [
    {
     "data": {
      "text/plain": [
       "[1, 'banana', 7.77, 1, 'new item']"
      ]
     },
     "execution_count": 2,
     "metadata": {},
     "output_type": "execute_result"
    }
   ],
   "source": [
    "example_list = [1, 'banana', 7.77, 1] # list 也可以像 tuple 一样包含重复元素\n",
    "example_list.append('new item') # 这里我们向 list 中添加一个新元素\n",
    "# 如果要对 tuple 执行相同的操作，你必须完全重新创建一个新的 tuple\n",
    "# 比如 `example_tuple_update = (1, 'banana', 7.77, 1, 'new item')`\n",
    "example_list"
   ]
  },
  {
   "cell_type": "code",
   "execution_count": 3,
   "id": "b7f78e29-8511-47b4-9984-117a838a2ad7",
   "metadata": {},
   "outputs": [
    {
     "data": {
      "text/plain": [
       "[1, 'orange', 7.77, 1, 'new item']"
      ]
     },
     "execution_count": 3,
     "metadata": {},
     "output_type": "execute_result"
    }
   ],
   "source": [
    "example_list[1] = \"orange\"\n",
    "example_list"
   ]
  },
  {
   "cell_type": "markdown",
   "id": "d09e936d-9bce-4e26-860e-7818c7ec99fe",
   "metadata": {},
   "source": [
    "**字典**（\"dictionary\"）是一种对象，它使用“键-值对”的查找结构来组织“元素”，而不是“按顺序排列的集合”。字典通过在花括号内创建和表示“键-值对”（key-value pair）。字典与列表一样是可变的，但字典的每个“键”(key)都是唯一 (unique) 的，因此它能够唯一地引用对应的“值”(value)。由于字典基于“查找”系统，因此它被称为无序对象。这意味着，与总是记住顺序的 tuple 和 list 不同，字典不会维护插入时的顺序，并且在字典被修改时，元素的顺序可能会发生变化。"
   ]
  },
  {
   "cell_type": "code",
   "execution_count": 4,
   "id": "0d80d337-3fbf-41e7-ab40-975402fd9a16",
   "metadata": {},
   "outputs": [
    {
     "data": {
      "text/plain": [
       "{'id': 1, 'name': 'orange', 'price': 5.99, 'fruit': 'orange'}"
      ]
     },
     "execution_count": 4,
     "metadata": {},
     "output_type": "execute_result"
    }
   ],
   "source": [
    "# 字典中不能有重复的“键” (key)，但可以有重复的“值” (valuue), \":\" 前的 key 必须独特，不能重复\n",
    "# 但是 'orange' 因为是 value，可以重复\n",
    "example_dict = {'id': 1, 'name': 'orange', 'price': 5.99, 'fruit': 'orange'} \n",
    "example_dict"
   ]
  },
  {
   "cell_type": "code",
   "execution_count": 5,
   "id": "d70115a6-97a6-438b-9b4a-168a6568571f",
   "metadata": {},
   "outputs": [
    {
     "name": "stdout",
     "output_type": "stream",
     "text": [
      "{'id': 1, 'name': 'orange', 'price': 5.99, 'fruit': 'orange', 'quantity': 10}\n"
     ]
    },
    {
     "data": {
      "text/plain": [
       "{'id': 1, 'name': 'orange', 'price': 5.99, 'fruit': 'orange'}"
      ]
     },
     "execution_count": 5,
     "metadata": {},
     "output_type": "execute_result"
    }
   ],
   "source": [
    "example_dict['quantity'] = 10 # 添加一个新的“键-值”对 (key-value pair)\n",
    "print(example_dict)\n",
    "del example_dict['quantity'] # 删除一个“键-值”对\n",
    "example_dict"
   ]
  },
  {
   "cell_type": "markdown",
   "id": "fe150d16-8f8c-4c5c-9a1a-5d4167605627",
   "metadata": {},
   "source": [
    "# np.array"
   ]
  },
  {
   "cell_type": "markdown",
   "id": "ab0c9807-6cd5-48a8-91a4-285e23c23eca",
   "metadata": {},
   "source": [
    "**NumPy** 是一个 Python 库，包含了最有效的标准数值计算函数。例如，`NumPy` 的 `np.array` 相较于列表来说，在处理数值任务时具有更高的速度和功能性。因此，在需要进行大量数值计算时，`np.array` 通常优于 Python 的原生list。"
   ]
  },
  {
   "cell_type": "code",
   "execution_count": 6,
   "id": "1c8f8aaf-f734-42bb-a5c3-5baca36c1de8",
   "metadata": {},
   "outputs": [
    {
     "data": {
      "text/plain": [
       "array([1, 2, 3])"
      ]
     },
     "execution_count": 6,
     "metadata": {},
     "output_type": "execute_result"
    }
   ],
   "source": [
    "import numpy as np\n",
    "example_array = np.array([1, 2, 3]) # 使用 np.array() 函数将列表 [1, 2, 3] 转换为 NumPy array\n",
    "example_array"
   ]
  },
  {
   "cell_type": "code",
   "execution_count": 7,
   "id": "1c8e9c8d-0199-4e1d-bf7a-fc5a2d7f3c19",
   "metadata": {},
   "outputs": [
    {
     "data": {
      "text/plain": [
       "np.int64(2)"
      ]
     },
     "execution_count": 7,
     "metadata": {},
     "output_type": "execute_result"
    }
   ],
   "source": [
    "# np.random.choice 是 numpy 里的随机抽样的函数。随机抽样是统计学一个非常重要的操作。\n",
    "random_element = np.random.choice(example_array) # 从 NumPy 数组 example_array 中随机选择一个元素\n",
    "random_element"
   ]
  },
  {
   "cell_type": "markdown",
   "id": "5c5e9421-94d0-4cd9-b624-881462f30951",
   "metadata": {},
   "source": [
    "# for loops"
   ]
  },
  {
   "cell_type": "markdown",
   "id": "776a9d28-8c71-4df7-a0b4-d4dbc555a6c2",
   "metadata": {},
   "source": [
    "在 Python 中，**for loop** 用于遍历序列（如 list、tuple、字符串）或其他可迭代对象。它**依次访问**序列中的每个元素，并**执行 for loop 里的代码**。这操作叫 **iterate（迭代）** （循环访问 + 执行代码）。\n",
    "\n",
    "通常配合 `range()` 函数一起使用。\n",
    "`range(n)` 函数在 Python 中会生成从 0 到 n-1 的数字。"
   ]
  },
  {
   "cell_type": "code",
   "execution_count": 8,
   "id": "bacc408a-82b9-43d0-aae8-5d011ad65c67",
   "metadata": {},
   "outputs": [
    {
     "name": "stdout",
     "output_type": "stream",
     "text": [
      "0\n",
      "1\n",
      "2\n",
      "3\n",
      "4\n"
     ]
    }
   ],
   "source": [
    "for i in range(5): # 将 `i` 依次迭代为值 0, 1, 2, 3, 4\n",
    "    # for loop 循环执行的代码放在 `for` 语句下面缩进的代码块（就这个位置）\n",
    "    print(i) # 会依次对每个 `i` 的值执行， 这个例子执行 print()）"
   ]
  },
  {
   "cell_type": "markdown",
   "id": "2860e5f1-2aae-49ec-b452-7c76e9289a7e",
   "metadata": {},
   "source": [
    "有时，通过**自定义列表**进行迭代比使用 `range(n)` 生成器更有用。下面，我们将迭代器 (iterator) 命名为 `x` 而不是 `i`，\n",
    "以强调它不是“数字索引迭代器”，一般数字索引用 i （像上面用 `range()` 的例子）"
   ]
  },
  {
   "cell_type": "code",
   "execution_count": 9,
   "id": "df048638-9b0d-4353-ab27-7d1d1c029f4a",
   "metadata": {},
   "outputs": [
    {
     "name": "stdout",
     "output_type": "stream",
     "text": [
      "apple\n",
      "banana\n",
      "cherry\n"
     ]
    }
   ],
   "source": [
    "a_list = ['apple', 'banana', 'cherry']  # 另外一种码法：a_list = \"apple banana cherry\".split()\n",
    "for x in a_list:  # 注意这里我们不需要使用 `range()` 函数！\n",
    "    print(x)      # 我们可以直接通过可迭代对象 `a_list` 进行迭代 (iterate)！"
   ]
  },
  {
   "cell_type": "code",
   "execution_count": 10,
   "id": "34e1a6a9-5604-40d7-8930-224b397513c2",
   "metadata": {},
   "outputs": [
    {
     "name": "stdout",
     "output_type": "stream",
     "text": [
      "Index: 0\n",
      "Value: apple\n",
      "Iteration Completed\n",
      "Index: 1\n",
      "Value: banana\n",
      "Iteration Completed\n",
      "Index: 2\n",
      "Value: cherry\n",
      "Iteration Completed\n"
     ]
    }
   ],
   "source": [
    "for i,x in enumerate(a_list):\n",
    "    print(f\"Index: {i}\") # this useful syntax pastes `i` into the displayed string\n",
    "    print(f\"Value: {x}\") # this useful syntax pastes `x` into the displayed string\n",
    "    print(\"Iteration Completed\")"
   ]
  },
  {
   "cell_type": "markdown",
   "id": "8ed3902a-c8fc-4913-8ec0-80059e1f4be4",
   "metadata": {},
   "source": [
    "另一种有时很有用的 for loop 结构是通过字典的 `.items()`、`.keys()` 或 `.values()` 方法来迭代字典。"
   ]
  },
  {
   "cell_type": "code",
   "execution_count": 11,
   "id": "98e3001c-1b54-4609-89eb-70993cdf4fdb",
   "metadata": {},
   "outputs": [
    {
     "name": "stdout",
     "output_type": "stream",
     "text": [
      "a\n",
      "b\n",
      "c\n",
      "Key: a, Value: 1\n",
      "Key: b, Value: 2\n",
      "Key: c, Value: 3\n",
      "1\n",
      "2\n",
      "3\n"
     ]
    }
   ],
   "source": [
    "my_dict = {'a': 1, 'b': 2, 'c': 3}\n",
    "\n",
    "# 通过字典的 .keys() 方法迭代 key\n",
    "for key in my_dict.keys():\n",
    "    print(key)\n",
    "\n",
    "# 通过字典的 .items() 方法迭代 key-value pair\n",
    "for key, value in my_dict.items():\n",
    "    print(f\"Key: {key}, Value: {value}\")\n",
    "\n",
    "# 通过字典的 .values() 方法迭代 value\n",
    "for value in my_dict.values():\n",
    "    print(value)"
   ]
  },
  {
   "cell_type": "markdown",
   "id": "eec9d5fa-6c19-4322-9c6e-fb232c822b6b",
   "metadata": {},
   "source": [
    "# Logical Flow Control\n",
    "Python 编程的**逻辑流程设计**"
   ]
  },
  {
   "cell_type": "markdown",
   "id": "0932270e-a35d-4e86-89a8-27e96a740d29",
   "metadata": {},
   "source": [
    "FizzBuzz 是一个经典的编程挑战，通常用于教授基本的编程概念，如循环和条件语句。在 FizzBuzz 问题中，你需要遍历一系列数字，并对每个数字执行以下操作：\n",
    "\n",
    "- 如果数字能被 3 整除，打印 “Fizz”。 \n",
    "- 如果数字能被 5 整除，打印 “Buzz”。 \n",
    "- 如果数字同时能被 3 和 5 整除，打印 “FizzBuzz”。 \n",
    "- 如果数字不能被 3 或 5 整除，打印该数字本身。"
   ]
  },
  {
   "cell_type": "code",
   "execution_count": 12,
   "id": "517a3049-1a23-4607-b382-bdafdaf1675e",
   "metadata": {},
   "outputs": [
    {
     "name": "stdout",
     "output_type": "stream",
     "text": [
      "1\n",
      "2\n",
      "Fizz\n",
      "4\n",
      "Buzz\n",
      "Fizz\n",
      "7\n",
      "8\n",
      "Fizz\n",
      "Buzz\n",
      "11\n",
      "Fizz\n",
      "13\n",
      "14\n",
      "FizzBuzz\n",
      "16\n",
      "17\n",
      "Fizz\n",
      "19\n",
      "Buzz\n",
      "Fizz\n",
      "22\n",
      "23\n",
      "Fizz\n",
      "Buzz\n",
      "26\n",
      "Fizz\n",
      "28\n",
      "29\n",
      "FizzBuzz\n",
      "31\n",
      "32\n",
      "Fizz\n",
      "34\n",
      "Buzz\n",
      "Fizz\n",
      "37\n",
      "38\n",
      "Fizz\n",
      "Buzz\n",
      "41\n",
      "Fizz\n",
      "43\n",
      "44\n",
      "FizzBuzz\n",
      "46\n",
      "47\n",
      "Fizz\n",
      "49\n",
      "Buzz\n",
      "Fizz\n",
      "52\n",
      "53\n",
      "Fizz\n",
      "Buzz\n",
      "56\n",
      "Fizz\n",
      "58\n",
      "59\n",
      "FizzBuzz\n",
      "61\n",
      "62\n",
      "Fizz\n",
      "64\n",
      "Buzz\n",
      "Fizz\n",
      "67\n",
      "68\n",
      "Fizz\n",
      "Buzz\n",
      "71\n",
      "Fizz\n",
      "73\n",
      "74\n",
      "FizzBuzz\n",
      "76\n",
      "77\n",
      "Fizz\n",
      "79\n",
      "Buzz\n",
      "Fizz\n",
      "82\n",
      "83\n",
      "Fizz\n",
      "Buzz\n",
      "86\n",
      "Fizz\n",
      "88\n",
      "89\n",
      "FizzBuzz\n",
      "91\n",
      "92\n",
      "Fizz\n",
      "94\n",
      "Buzz\n",
      "Fizz\n",
      "97\n",
      "98\n",
      "Fizz\n",
      "Buzz\n"
     ]
    }
   ],
   "source": [
    "# 示例\n",
    "for i in range(1, 101):  # 从 1 循环到 100\n",
    "    if i % 3 == 0 and i % 5 == 0:  # 检查当前数字 (i) 是否能同时被 3 和 5 整除，能就 print \"FizzBuzz\"\n",
    "        print(\"FizzBuzz\") \n",
    "    elif i % 3 == 0:  # 检查是否能被 3 整除，能就 print \"Fizz\"\n",
    "        print(\"Fizz\")\n",
    "    elif i % 5 == 0:  # 检查是否能被 5 整除，能就 print \"Buzz\"\n",
    "        print(\"Buzz\")\n",
    "    else:  # 如果不能被 3 或 5 整除，就 print i 本身的值\n",
    "        print(i)"
   ]
  },
  {
   "cell_type": "markdown",
   "id": "53866c3a-eb3c-4d95-8dfd-6ddaab01d97e",
   "metadata": {},
   "source": [
    "使用 `range(1, 101)` 来循环从 1 到 100 的原因是 Python 中的 `range()` 函数*包含起始值，但不包含终止值*。在这种情况下：\n",
    "\n",
    "`range(1, 101)` 从 1 开始（包括 1），但在 101 之前结束（不包括 101）。\n",
    "因此，它生成的数字是从 1 到 100。\n",
    "\n",
    "如果使用 `range(1, 100)`，循环会在 99 结束，不包括 100。数字 100 是结束点，但不会包含在迭代中。"
   ]
  },
  {
   "cell_type": "markdown",
   "id": "f63629f7-bb00-4b66-a36b-11f420f544ea",
   "metadata": {},
   "source": [
    "在 Python 中，`if`、`elif` 和 `else` 是用于控制程序执行流程的条件语句，它们允许程序根据不同的条件执行不同的代码块。它们的逻辑流程 (logic flow) 如下：\n",
    "- `if` 语句：用于检查某个条件是否为真。如果条件为真（即条件表达式的结果为 True），那么执行 `if` 语句中的代码块。\n",
    "- `elif` 语句：`elif` 是 “else if” 的缩写，用于检查另一个条件。如果前面的 `if` 条件为假 (false)，程序会继续检查 `elif` 条件。如果 `elif` 条件为真 (true)，则执行 `elif` 语句中的代码块\n",
    "- `else` 语句：`else` 是在所有 `if` 和 `elif` 条件都不满足的情况下执行的代码块。它表示当没有其他条件为真时，执行 `else` 代码块中的内容。\n",
    "\n",
    "Logic flow 总结:\n",
    "- 程序首先检查 `if` 语句中的条件，如果为真，执行相关代码，并跳过后续的 `elif` 和 `else` 语句。\n",
    "- 如果 `if` 条件为假，程序会继续检查第一个 `elif` 语句。如果它的条件为真，执行其代码块。\n",
    "- 如果 `elif` 语句也不满足，程序会继续检查后续的 `elif` 语句（如果有）。\n",
    "- 如果所有条件都不为真，最终会执行 `else` 语句中的代码。"
   ]
  },
  {
   "cell_type": "markdown",
   "id": "0174cced-d8cf-4c6a-b41b-3210166aaee3",
   "metadata": {},
   "source": [
    "**try-except block**"
   ]
  },
  {
   "cell_type": "markdown",
   "id": "593dab78-e9f5-4694-8160-01e7c4aae64e",
   "metadata": {},
   "source": [
    "与 `if`/`else` 语句类似的逻辑控制结构是 `try-except` block。然而，`try-except` block 不是检查条件是否为真，而是检查是否存在“运行时错误”，这些错误被存储为一种称为 `Exception` 的 Python 对象。在下面的代码中，Python 试图运行 \"one\"/\"two\" 但不知道如何执行此（非法）操作；不过，`except Exception as e` 结构可以捕捉错误的性质，将其存储为一个 `Exception` 对象并命名为 `e`。这样，可以**将错误信息打印出来并进行检查，而不会导致代码失败**（如果没有 `try-except` block，直接运行 `\"one\"/\"two\"` 会导致代码报错）。"
   ]
  },
  {
   "cell_type": "code",
   "execution_count": 13,
   "id": "22fec6be-313a-4ae2-ab6d-1a7e67a5b6a3",
   "metadata": {},
   "outputs": [
    {
     "name": "stdout",
     "output_type": "stream",
     "text": [
      "An error occurred: unsupported operand type(s) for /: 'str' and 'str'\n"
     ]
    }
   ],
   "source": [
    "try:\n",
    "    \"one\"/\"two\" # # 尝试运行 \"one\" / \"two\"（这是一个非法操作）\n",
    "except Exception as e: # 捕捉异常，将错误信息存储为 Exception 对象 e\n",
    "    print(f\"An error occurred: {e}\") # 打印错误信息而不会导致程序崩溃"
   ]
  }
 ],
 "metadata": {
  "kernelspec": {
   "display_name": "Python 3 (ipykernel)",
   "language": "python",
   "name": "python3"
  },
  "language_info": {
   "codemirror_mode": {
    "name": "ipython",
    "version": 3
   },
   "file_extension": ".py",
   "mimetype": "text/x-python",
   "name": "python",
   "nbconvert_exporter": "python",
   "pygments_lexer": "ipython3",
   "version": "3.11.6"
  }
 },
 "nbformat": 4,
 "nbformat_minor": 5
}
